{
 "cells": [
  {
   "attachments": {},
   "cell_type": "markdown",
   "metadata": {},
   "source": [
    "1. Write a Python code that counts how many vowels and constants a string has that a user entered.\n",
    "\n",
    "Example:\n",
    "text : Today is Saturday\n",
    "\n",
    "Your text has 6 vowels and 9 constants"
   ]
  },
  {
   "cell_type": "code",
   "execution_count": 12,
   "metadata": {},
   "outputs": [
    {
     "name": "stdout",
     "output_type": "stream",
     "text": [
      "Your text has 6 vowels and 9 constants\n"
     ]
    }
   ],
   "source": [
    "sentence=input(\"Please write a sentence to count vowel and constant letter\")\n",
    "\n",
    "vowels=[\"a\", \"e\", \"i\", \"o\", \"u\"]\n",
    "vowel_count = 0\n",
    "consonant_count = 0\n",
    "for i in sentence.lower():\n",
    "    if i in vowels:\n",
    "        vowel_count += 1\n",
    "    elif i.isalpha():\n",
    "        consonant_count += 1\n",
    "\n",
    "print(f\"Your text has {vowel_count} vowels and {consonant_count} constants\")"
   ]
  },
  {
   "cell_type": "code",
   "execution_count": null,
   "metadata": {},
   "outputs": [],
   "source": []
  }
 ],
 "metadata": {
  "kernelspec": {
   "display_name": "Python 3",
   "language": "python",
   "name": "python3"
  },
  "language_info": {
   "codemirror_mode": {
    "name": "ipython",
    "version": 3
   },
   "file_extension": ".py",
   "mimetype": "text/x-python",
   "name": "python",
   "nbconvert_exporter": "python",
   "pygments_lexer": "ipython3",
   "version": "3.10.4"
  },
  "orig_nbformat": 4,
  "vscode": {
   "interpreter": {
    "hash": "a9cff5a362bc38ef45d817ae74b1af54d6a076e3d773891282bce078b815ba34"
   }
  }
 },
 "nbformat": 4,
 "nbformat_minor": 2
}
