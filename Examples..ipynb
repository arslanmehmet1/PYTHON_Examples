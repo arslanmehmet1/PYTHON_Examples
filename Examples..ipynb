{
 "cells": [
  {
   "attachments": {},
   "cell_type": "markdown",
   "metadata": {},
   "source": [
    "1. Write a Python code that counts how many vowels and constants a string has that a user entered.\n",
    "\n",
    "Example:\n",
    "text : Today is Saturday\n",
    "\n",
    "Your text has 6 vowels and 9 constants"
   ]
  },
  {
   "cell_type": "code",
   "execution_count": 1,
   "metadata": {},
   "outputs": [
    {
     "name": "stdout",
     "output_type": "stream",
     "text": [
      "Your text has 6 vowels and 9 constants\n"
     ]
    }
   ],
   "source": [
    "sentence=input(\"Please write a sentence to count vowel and constant letter\")\n",
    "\n",
    "vowels=[\"a\", \"e\", \"i\", \"o\", \"u\"]\n",
    "vowel_count = 0\n",
    "consonant_count = 0\n",
    "for i in sentence.lower():\n",
    "    if i in vowels:\n",
    "        vowel_count += 1\n",
    "    elif i.isalpha():\n",
    "        consonant_count += 1\n",
    "\n",
    "print(f\"Your text has {vowel_count} vowels and {consonant_count} constants\")"
   ]
  },
  {
   "attachments": {},
   "cell_type": "markdown",
   "metadata": {},
   "source": [
    "2. Write a Python code to copy all of contents of dict1 to dict2 by doubling value numbers at below.\n",
    "\n",
    "Sample array:\n",
    "\n",
    "dict1 = {'Apple': 15, 'Orange': 35, 'Melon': 20, 'Banana': 50, 'Pear': 40}  \n",
    "\n",
    "Expected Output :\"Red, Green, White, Black\"\n",
    "\n",
    "dict2 = {'Apple': 30, 'Orange': 70, 'Melon': 40, 'Banana': 100, 'Pear': 80}"
   ]
  },
  {
   "cell_type": "code",
   "execution_count": 2,
   "metadata": {},
   "outputs": [
    {
     "name": "stdout",
     "output_type": "stream",
     "text": [
      "{'Apple': 30, 'Orange': 70, 'Melon': 40, 'Banana': 100, 'Pear': 80}\n"
     ]
    }
   ],
   "source": [
    "dict1 = {'Apple': 15, 'Orange': 35, 'Melon': 20, 'Banana': 50, 'Pear': 40}  \n",
    "\n",
    "dict2={}\n",
    "for key, value in dict1.items():\n",
    "    dict2[key]=value * 2\n",
    "print(dict2)"
   ]
  },
  {
   "attachments": {},
   "cell_type": "markdown",
   "metadata": {},
   "source": [
    "3. Ask user to enter a word, a separator and number of repetitions. Write a Python code displaying the word with repetition times and having each word separated with separator character.\n",
    "\n",
    "For example, if user entered:\n",
    "\n",
    "word as Tina,\n",
    "separator as !\n",
    "repetitions as 3\n",
    "expected output:\n",
    "\n",
    "\"Tina!Tina!Tina\"\n",
    "\n",
    "Be careful there is no separator character at the end."
   ]
  },
  {
   "cell_type": "code",
   "execution_count": 3,
   "metadata": {},
   "outputs": [
    {
     "name": "stdout",
     "output_type": "stream",
     "text": [
      "elma#elma#elma#elma#elma\n"
     ]
    }
   ],
   "source": [
    "word=input(\"enter a word\")\n",
    "separator=input(\"enter separator\")\n",
    "repeat=int(input(\"enter repitation\"))\n",
    "\n",
    "result=((word+separator)*repeat).rstrip(separator)\n",
    "print(result)"
   ]
  },
  {
   "attachments": {},
   "cell_type": "markdown",
   "metadata": {},
   "source": [
    "4. Write a Python code to sort by year descending below list of used car dictionaries using Lambda.\n",
    "\n",
    "sample dict:\n",
    "\n",
    "cars = [{'make':'Ford', 'model':'F150 XLT','year':2018, 'color':'Gray'}, \\\n",
    "        {'make':'Porsche', 'model':'Cayman GT4', 'year':2016, 'color':'Gold'}, \\\n",
    "        {'make':'Audi', 'model': 'S7 Prestige', 'year':2017, 'color':'Blue'},\\\n",
    "        {'make':'Mercedes', 'model': 'S550', 'year':2019, 'color':'Black'}]"
   ]
  }
 ],
 "metadata": {
  "kernelspec": {
   "display_name": "Python 3",
   "language": "python",
   "name": "python3"
  },
  "language_info": {
   "codemirror_mode": {
    "name": "ipython",
    "version": 3
   },
   "file_extension": ".py",
   "mimetype": "text/x-python",
   "name": "python",
   "nbconvert_exporter": "python",
   "pygments_lexer": "ipython3",
   "version": "3.10.4"
  },
  "orig_nbformat": 4,
  "vscode": {
   "interpreter": {
    "hash": "a9cff5a362bc38ef45d817ae74b1af54d6a076e3d773891282bce078b815ba34"
   }
  }
 },
 "nbformat": 4,
 "nbformat_minor": 2
}
