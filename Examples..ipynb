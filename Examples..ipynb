{
 "cells": [
  {
   "attachments": {},
   "cell_type": "markdown",
   "metadata": {},
   "source": [
    "1. Write a Python code that counts how many vowels and constants a string has that a user entered.\n",
    "\n",
    "Example:\n",
    "text : Today is Saturday\n",
    "\n",
    "Your text has 6 vowels and 9 constants"
   ]
  },
  {
   "cell_type": "code",
   "execution_count": 1,
   "metadata": {},
   "outputs": [
    {
     "name": "stdout",
     "output_type": "stream",
     "text": [
      "Your text has 6 vowels and 9 constants\n"
     ]
    }
   ],
   "source": [
    "sentence=input(\"Please write a sentence to count vowel and constant letter\")\n",
    "\n",
    "vowels=[\"a\", \"e\", \"i\", \"o\", \"u\"]\n",
    "vowel_count = 0\n",
    "consonant_count = 0\n",
    "for i in sentence.lower():\n",
    "    if i in vowels:\n",
    "        vowel_count += 1\n",
    "    elif i.isalpha():\n",
    "        consonant_count += 1\n",
    "\n",
    "print(f\"Your text has {vowel_count} vowels and {consonant_count} constants\")"
   ]
  },
  {
   "attachments": {},
   "cell_type": "markdown",
   "metadata": {},
   "source": [
    "2. Write a Python code to copy all of contents of dict1 to dict2 by doubling value numbers at below.\n",
    "\n",
    "Sample array:\n",
    "\n",
    "dict1 = {'Apple': 15, 'Orange': 35, 'Melon': 20, 'Banana': 50, 'Pear': 40}  \n",
    "\n",
    "Expected Output :\"Red, Green, White, Black\"\n",
    "\n",
    "dict2 = {'Apple': 30, 'Orange': 70, 'Melon': 40, 'Banana': 100, 'Pear': 80}"
   ]
  },
  {
   "cell_type": "code",
   "execution_count": 2,
   "metadata": {},
   "outputs": [
    {
     "name": "stdout",
     "output_type": "stream",
     "text": [
      "{'Apple': 30, 'Orange': 70, 'Melon': 40, 'Banana': 100, 'Pear': 80}\n"
     ]
    }
   ],
   "source": [
    "dict1 = {'Apple': 15, 'Orange': 35, 'Melon': 20, 'Banana': 50, 'Pear': 40}  \n",
    "\n",
    "dict2={}\n",
    "for key, value in dict1.items():\n",
    "    dict2[key]=value * 2\n",
    "print(dict2)"
   ]
  },
  {
   "attachments": {},
   "cell_type": "markdown",
   "metadata": {},
   "source": [
    "3. Ask user to enter a word, a separator and number of repetitions. Write a Python code displaying the word with repetition times and having each word separated with separator character.\n",
    "\n",
    "For example, if user entered:\n",
    "\n",
    "word as Tina,\n",
    "separator as !\n",
    "repetitions as 3\n",
    "expected output:\n",
    "\n",
    "\"Tina!Tina!Tina\"\n",
    "\n",
    "Be careful there is no separator character at the end."
   ]
  },
  {
   "cell_type": "code",
   "execution_count": 3,
   "metadata": {},
   "outputs": [
    {
     "name": "stdout",
     "output_type": "stream",
     "text": [
      "elma#elma#elma#elma#elma\n"
     ]
    }
   ],
   "source": [
    "word=input(\"enter a word\")\n",
    "separator=input(\"enter separator\")\n",
    "repeat=int(input(\"enter repitation\"))\n",
    "\n",
    "result=((word+separator)*repeat).rstrip(separator)\n",
    "print(result)"
   ]
  },
  {
   "attachments": {},
   "cell_type": "markdown",
   "metadata": {},
   "source": [
    "4. Write a Python code to sort by year descending below list of used car dictionaries using Lambda.\n",
    "\n",
    "sample dict:\n",
    "\n",
    "cars = [{'make':'Ford', 'model':'F150 XLT','year':2018, 'color':'Gray'}, \\\n",
    "        {'make':'Porsche', 'model':'Cayman GT4', 'year':2016, 'color':'Gold'}, \\\n",
    "        {'make':'Audi', 'model': 'S7 Prestige', 'year':2017, 'color':'Blue'},\\\n",
    "        {'make':'Mercedes', 'model': 'S550', 'year':2019, 'color':'Black'}]"
   ]
  },
  {
   "cell_type": "code",
   "execution_count": 4,
   "metadata": {},
   "outputs": [
    {
     "name": "stdout",
     "output_type": "stream",
     "text": [
      "[{'make': 'Porsche', 'model': 'Cayman GT4', 'year': 2016, 'color': 'Gold'}, {'make': 'Audi', 'model': 'S7 Prestige', 'year': 2017, 'color': 'Blue'}, {'make': 'Ford', 'model': 'F150 XLT', 'year': 2018, 'color': 'Gray'}, {'make': 'Mercedes', 'model': 'S550', 'year': 2019, 'color': 'Black'}]\n"
     ]
    }
   ],
   "source": [
    "cars = [{'make':'Ford', 'model':'F150 XLT','year':2018, 'color':'Gray'}, \\\n",
    "        {'make':'Porsche', 'model':'Cayman GT4', 'year':2016, 'color':'Gold'}, \\\n",
    "        {'make':'Audi', 'model': 'S7 Prestige', 'year':2017, 'color':'Blue'},\\\n",
    "        {'make':'Mercedes', 'model': 'S550', 'year':2019, 'color':'Black'}]\n",
    "\n",
    "cars.sort(key=lambda x:x[\"year\"])\n",
    "print(cars)"
   ]
  },
  {
   "attachments": {},
   "cell_type": "markdown",
   "metadata": {},
   "source": [
    "5. Write Python code to convert below JSON data to Python Object, and print this Python Object.\n",
    "\n",
    "Sample JSON\n",
    "\n",
    "json_car =  '{ \"Make\":\"Mercedes\", \"Model\":\"E-200\", \"Year\":2015 }'\n",
    "\n",
    "# pay attention this is a string"
   ]
  },
  {
   "cell_type": "code",
   "execution_count": 9,
   "metadata": {},
   "outputs": [
    {
     "name": "stdout",
     "output_type": "stream",
     "text": [
      "{'Make': 'Mercedes', 'Model': 'E-200', 'Year': 2015}\n",
      "E-200\n"
     ]
    }
   ],
   "source": [
    "import json\n",
    "json_car =  '{ \"Make\":\"Mercedes\", \"Model\":\"E-200\", \"Year\":2015 }'\n",
    "car=json.loads(json_car)\n",
    "print(car)\n",
    "print(car[\"Model\"])"
   ]
  },
  {
   "attachments": {},
   "cell_type": "markdown",
   "metadata": {},
   "source": [
    "6. This is an interview question asked by Facebook.\n",
    "\n",
    "Given the mapping a = 1, b = 2, ... z = 26, and an encoded message, count the number of ways it can be decoded.\n",
    "\n",
    "For example, the message '111' would give 3, since it could be decoded as 'aaa', 'ka', and 'ak'.\n",
    "\n",
    "You can assume that the messages are decodable. For example, '001' is not allowed."
   ]
  },
  {
   "cell_type": "code",
   "execution_count": null,
   "metadata": {},
   "outputs": [],
   "source": []
  },
  {
   "attachments": {},
   "cell_type": "markdown",
   "metadata": {},
   "source": [
    "7. This is an interview question asked by Twitter.\n",
    "\n",
    "Implement an autocomplete system. That is, given a query string s and a set of all possible query strings, return all strings in the set that have s as a prefix.\n",
    "\n",
    "For example, given the query string de and the set of strings [dog, deer, deal], return [deer, deal]."
   ]
  },
  {
   "cell_type": "code",
   "execution_count": 13,
   "metadata": {},
   "outputs": [
    {
     "name": "stdout",
     "output_type": "stream",
     "text": [
      "['deal']\n"
     ]
    }
   ],
   "source": [
    "words=[\"dog\", \"deer\", \"deal\"]\n",
    "search=input(\"search letters\")\n",
    "search_words=[]\n",
    "for i in words:\n",
    "    if search in i:\n",
    "        search_words.append(i)\n",
    "print(search_words)"
   ]
  },
  {
   "attachments": {},
   "cell_type": "markdown",
   "metadata": {},
   "source": [
    "8. This is an interview question asked by Amazon.\n",
    "\n",
    "There exists a staircase with N steps, and you can climb up either 1 or 2 steps at a time. Given N, write a function that returns the number of unique ways you can climb the staircase. The order of the steps matters.\n",
    "\n",
    "For example, if N is 4, then there are 5 unique ways:\n",
    "\n",
    "1, 1, 1, 1  \n",
    "\n",
    "2, 1, 1  \n",
    "\n",
    "1, 2, 1  \n",
    "\n",
    "1, 1, 2  \n",
    "\n",
    "2, 2  "
   ]
  },
  {
   "cell_type": "code",
   "execution_count": 20,
   "metadata": {},
   "outputs": [
    {
     "data": {
      "text/plain": [
       "5"
      ]
     },
     "execution_count": 20,
     "metadata": {},
     "output_type": "execute_result"
    }
   ],
   "source": [
    "def staircase(n):\n",
    "    if n == 0:\n",
    "        return 1\n",
    "    if n == 1:\n",
    "        return 1\n",
    "    return staircase(n-1) + staircase(n-2)\n",
    "\n",
    "staircase(4)"
   ]
  },
  {
   "attachments": {},
   "cell_type": "markdown",
   "metadata": {},
   "source": [
    "9. This is an interview question asked by Amazon.\n",
    "\n",
    "Given an integer k and a string s, find the length of the longest substring that contains at most k distinct characters.\n",
    "\n",
    "For example, given s = \"abcba\" and k = 2, the longest substring with k distinct characters is \"bcb\"."
   ]
  },
  {
   "cell_type": "code",
   "execution_count": 24,
   "metadata": {},
   "outputs": [
    {
     "name": "stdout",
     "output_type": "stream",
     "text": [
      "{'c', 'b', 'a'}\n",
      "ab\n",
      "2\n"
     ]
    }
   ],
   "source": [
    "string = \"abcba\"\n",
    "k=2\n",
    "longest=string[0]\n",
    "n=0\n",
    "def fonk(n):\n",
    "    while case:\n",
    "        if len(set(string[n:k]))>len(longest):\n",
    "            longest=string[n:k]\n",
    "            k+=1\n",
    "        else:\n",
    "            n+=1\n",
    "            if n==len(string):\n",
    "                case=False\n",
    "            fonk(n)\n",
    "\n",
    "fonk(n)\n",
    "\n",
    "\n",
    "\n",
    "\n",
    "\n",
    "word=set(s[0:5])\n",
    "print(word)\n",
    "\n",
    "print(longest)\n",
    "print(len(longest))"
   ]
  },
  {
   "attachments": {},
   "cell_type": "markdown",
   "metadata": {},
   "source": [
    "10. This is an interview question asked by Google.\n",
    "\n",
    "Given an array of integers and a number k, where 1 <= k <= length of the array, compute the maximum values of each subarray of length k.\n",
    "\n",
    "For example, given array = [10, 5, 2, 7, 8, 7] and k = 3, we should get: [10, 7, 8, 8], since:\n",
    "\n",
    "10 = max(10, 5, 2) \n",
    "7 = max(5, 2, 7) \n",
    "8 = max(2, 7, 8) \n",
    "8 = max(7, 8, 7) "
   ]
  },
  {
   "cell_type": "code",
   "execution_count": 19,
   "metadata": {},
   "outputs": [
    {
     "name": "stdout",
     "output_type": "stream",
     "text": [
      "[10, 7, 8, 8]\n"
     ]
    }
   ],
   "source": [
    "array = [10, 5, 2, 7, 8, 7]\n",
    "k=3\n",
    "n=0\n",
    "result=[]\n",
    "\n",
    "for i in range(len(array)-k+1):\n",
    "    result.append(max(array[n:n+3]))\n",
    "    n+=1\n",
    "print(result)"
   ]
  }
 ],
 "metadata": {
  "kernelspec": {
   "display_name": "Python 3",
   "language": "python",
   "name": "python3"
  },
  "language_info": {
   "codemirror_mode": {
    "name": "ipython",
    "version": 3
   },
   "file_extension": ".py",
   "mimetype": "text/x-python",
   "name": "python",
   "nbconvert_exporter": "python",
   "pygments_lexer": "ipython3",
   "version": "3.10.4"
  },
  "orig_nbformat": 4,
  "vscode": {
   "interpreter": {
    "hash": "a9cff5a362bc38ef45d817ae74b1af54d6a076e3d773891282bce078b815ba34"
   }
  }
 },
 "nbformat": 4,
 "nbformat_minor": 2
}
